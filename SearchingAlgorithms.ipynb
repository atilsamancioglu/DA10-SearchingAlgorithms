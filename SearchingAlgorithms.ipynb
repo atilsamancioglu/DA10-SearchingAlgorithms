{
 "cells": [
  {
   "cell_type": "code",
   "execution_count": 1,
   "metadata": {},
   "outputs": [],
   "source": [
    "class SearchingAlgorithms:\n",
    "    def sequantialSearchUnordered(self,unorderedList,number):\n",
    "        ix = 0\n",
    "        found = False\n",
    "    \n",
    "        while ix < len(unorderedList) and not found:\n",
    "\n",
    "            if unorderedList[ix] == number:\n",
    "                found = True\n",
    "            else:\n",
    "                ix += 1\n",
    "                \n",
    "        return found\n",
    "    \n",
    "    def sequantialSearchOrdered(self,orderedList,number):\n",
    "        ix = 0\n",
    "        found = False\n",
    "        tooBig = False\n",
    "    \n",
    "        while ix < len(orderedList) and not found and not tooBig:\n",
    "\n",
    "            if orderedList[ix] == number:\n",
    "                found = True\n",
    "            else:\n",
    "                if orderedList[ix] > number:\n",
    "                    tooBig = True\n",
    "                else:\n",
    "                    ix += 1\n",
    "        return found\n",
    "    \n",
    "    def binarySearch(self,orderedList,number):\n",
    "        firstPointer = 0\n",
    "        lastPointer = len(orderedList) - 1\n",
    "        \n",
    "        found = False\n",
    "        \n",
    "        while firstPointer <= lastPointer and not found:\n",
    "            \n",
    "            midPoint = (firstPointer + lastPointer) // 2\n",
    "            \n",
    "            if orderedList[midPoint] == number:\n",
    "                found = True\n",
    "            else:\n",
    "                if number < orderedList[midPoint]:\n",
    "                    lastPointer = midPoint - 1\n",
    "                else:\n",
    "                    firstPointer = midPoint + 1\n",
    "        return found"
   ]
  },
  {
   "cell_type": "code",
   "execution_count": 2,
   "metadata": {},
   "outputs": [],
   "source": [
    "search = SearchingAlgorithms()"
   ]
  },
  {
   "cell_type": "code",
   "execution_count": 3,
   "metadata": {},
   "outputs": [],
   "source": [
    "myList = [40,20,10,4,5,19,80,2,0,14]"
   ]
  },
  {
   "cell_type": "code",
   "execution_count": 4,
   "metadata": {},
   "outputs": [
    {
     "data": {
      "text/plain": [
       "True"
      ]
     },
     "execution_count": 4,
     "metadata": {},
     "output_type": "execute_result"
    }
   ],
   "source": [
    "search.sequantialSearchUnordered(myList,10)"
   ]
  },
  {
   "cell_type": "code",
   "execution_count": 5,
   "metadata": {},
   "outputs": [
    {
     "data": {
      "text/plain": [
       "False"
      ]
     },
     "execution_count": 5,
     "metadata": {},
     "output_type": "execute_result"
    }
   ],
   "source": [
    "search.sequantialSearchUnordered(myList,15)"
   ]
  },
  {
   "cell_type": "code",
   "execution_count": 6,
   "metadata": {},
   "outputs": [],
   "source": [
    "myList.sort()"
   ]
  },
  {
   "cell_type": "code",
   "execution_count": 7,
   "metadata": {},
   "outputs": [
    {
     "data": {
      "text/plain": [
       "[0, 2, 4, 5, 10, 14, 19, 20, 40, 80]"
      ]
     },
     "execution_count": 7,
     "metadata": {},
     "output_type": "execute_result"
    }
   ],
   "source": [
    "myList"
   ]
  },
  {
   "cell_type": "code",
   "execution_count": 8,
   "metadata": {},
   "outputs": [
    {
     "data": {
      "text/plain": [
       "True"
      ]
     },
     "execution_count": 8,
     "metadata": {},
     "output_type": "execute_result"
    }
   ],
   "source": [
    "search.sequantialSearchOrdered(myList,10)"
   ]
  },
  {
   "cell_type": "code",
   "execution_count": 9,
   "metadata": {},
   "outputs": [
    {
     "data": {
      "text/plain": [
       "False"
      ]
     },
     "execution_count": 9,
     "metadata": {},
     "output_type": "execute_result"
    }
   ],
   "source": [
    "search.sequantialSearchOrdered(myList,15)"
   ]
  },
  {
   "cell_type": "code",
   "execution_count": 10,
   "metadata": {},
   "outputs": [
    {
     "data": {
      "text/plain": [
       "True"
      ]
     },
     "execution_count": 10,
     "metadata": {},
     "output_type": "execute_result"
    }
   ],
   "source": [
    "search.binarySearch(myList,10)"
   ]
  },
  {
   "cell_type": "code",
   "execution_count": 11,
   "metadata": {},
   "outputs": [
    {
     "data": {
      "text/plain": [
       "False"
      ]
     },
     "execution_count": 11,
     "metadata": {},
     "output_type": "execute_result"
    }
   ],
   "source": [
    "search.binarySearch(myList,15)"
   ]
  },
  {
   "cell_type": "code",
   "execution_count": null,
   "metadata": {},
   "outputs": [],
   "source": []
  }
 ],
 "metadata": {
  "kernelspec": {
   "display_name": "Python 3",
   "language": "python",
   "name": "python3"
  },
  "language_info": {
   "codemirror_mode": {
    "name": "ipython",
    "version": 3
   },
   "file_extension": ".py",
   "mimetype": "text/x-python",
   "name": "python",
   "nbconvert_exporter": "python",
   "pygments_lexer": "ipython3",
   "version": "3.8.5"
  }
 },
 "nbformat": 4,
 "nbformat_minor": 4
}
